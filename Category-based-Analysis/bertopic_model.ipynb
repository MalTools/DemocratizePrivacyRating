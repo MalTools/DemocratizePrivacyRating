{
 "cells": [
  {
   "cell_type": "code",
   "execution_count": 4,
   "id": "24a844b3-fa54-4cbc-8fb2-4746f0df84ad",
   "metadata": {},
   "outputs": [],
   "source": [
    "from bertopic import BERTopic\n",
    "from hdbscan import HDBSCAN\n",
    "from bertopic.representation import KeyBERTInspired\n",
    "from bertopic.representation import OpenAI\n",
    "import openai\n",
    "import httpx\n",
    "from bertopic.representation import MaximalMarginalRelevance\n",
    "from sklearn.feature_extraction.text import CountVectorizer\n",
    "import pandas as pd\n",
    "# from nltk.corpus import stopwords\n",
    "# from bertopic.backend import OpenAIBackend"
   ]
  },
  {
   "cell_type": "code",
   "execution_count": 5,
   "id": "4e4fd69d-2d4f-4fa3-b3dc-af93e32bf578",
   "metadata": {},
   "outputs": [],
   "source": [
    "category = \"TOOLS\"\n",
    "df = pd.read_csv('data/%s_apps.csv' % category)\n",
    "docs = list(df['description'])"
   ]
  },
  {
   "cell_type": "code",
   "execution_count": 6,
   "id": "fd9fe3fd-961a-47f8-a9d0-fa09c783c75c",
   "metadata": {},
   "outputs": [],
   "source": [
    "hdbscan_model = HDBSCAN(min_cluster_size=100, prediction_data=True)\n",
    "\n",
    "# standard_stopwords = list(stopwords.words('english'))\n",
    "# additional_stopwords = ['app', 'application', 'mobile']\n",
    "# full_stopwords = standard_stopwords + additional_stopwords\n",
    "# vectorizer_model = CountVectorizer(ngram_range=(1, 3), stop_words='english', min_df=10)  # stop_words=full_stopwords\n",
    "\n",
    "# vectorizer_model = CountVectorizer(stop_words='english')\n"
   ]
  },
  {
   "cell_type": "code",
   "execution_count": null,
   "id": "14c67430-e0b0-43db-a5de-3e7703dd17dd",
   "metadata": {},
   "outputs": [],
   "source": [
    "client = openai.OpenAI(\n",
    "    base_url = \"https://api.deepseek.com\",\n",
    "    api_key = \"sk-61de429c43324f1e90a41e8610637a5e\",\n",
    "    # base_url=\"https://api.xty.app/v1\",\n",
    "    # api_key=\"sk-Y2rUKBk6to7SoIBjBaC72894Dc8e45B8A5E43f57Be37B67a\", \n",
    "    # http_client=httpx.Client(\n",
    "    #     base_url=\"https://api.xty.app/v1\",\n",
    "    #     follow_redirects=True,\n",
    "    # ),\n",
    ")\n",
    "representation_model_ins = KeyBERTInspired()\n",
    "representation_model_gpt = OpenAI(client, model=\"gpt-4o\", chat=True)\n",
    "representation_model_insmmr = [KeyBERTInspired(top_n_words=20),\n",
    "                               MaximalMarginalRelevance(diversity=.5)]\n",
    "\n",
    "# embedding_model = OpenAIBackend(client, \"text-embedding-3-small\")\n",
    "\n",
    "representation_models = {\n",
    "    \"Main\": representation_model_ins,\n",
    "    \"Aspect1\": representation_model_insmmr,\n",
    "    \"Aspect2\": representation_model_gpt\n",
    "}\n",
    "\n",
    "topic_model = BERTopic(nr_topics='auto', n_gram_range=(1, 3), min_topic_size=100,\n",
    "                       calculate_probabilities=True,\n",
    "                       hdbscan_model=hdbscan_model,\n",
    "                       # vectorizer_model=vectorizer_model,\n",
    "                       # embedding_model=embedding_model,\n",
    "                       representation_model=representation_models\n",
    "                      )\n",
    "\n",
    "# topic_model.save('my_bt_model')\n",
    "# topic_model.representation_model=representation_models\n",
    "\n",
    "topics, probs = topic_model.fit_transform(docs)\n",
    "\n",
    "# standard_stopwords = list(stopwords.words('english'))\n",
    "# additional_stopwords = ['app', 'application', 'mobile']\n",
    "# full_stopwords = standard_stopwords + additional_stopwords\n",
    "vectorizer_model = CountVectorizer(ngram_range=(1, 3), stop_words='english', min_df=0.01, max_df=0.99)\n",
    "\n",
    "topic_model.update_topics(docs, vectorizer_model=vectorizer_model)\n",
    "\n",
    "print(topic_model.get_topic_info())\n",
    "\n",
    "topic_model.get_topic_info().to_csv('cluster/%s-topic-2.csv' % category)\n",
    "\n",
    "topic_model.visualize_topics()\n",
    "\n",
    "topic_model.visualize_heatmap()\n"
   ]
  },
  {
   "cell_type": "code",
   "execution_count": null,
   "id": "70431dcc-ddd3-4c26-bf58-e1f4169f7533",
   "metadata": {
    "pycharm": {
     "is_executing": true
    }
   },
   "outputs": [],
   "source": [
    "\n",
    "topics_to_merge = [0, 1, 6, 8]\n",
    "topic_model.merge_topics(docs, topics_to_merge)\n",
    "\n",
    "# Access updated topics\n",
    "topics = topic_model.topics_\n",
    "\n",
    "topic_model.get_topic_info().to_csv('cluster/%s-topic-1-merged.csv' % category)\n",
    "topic_model.get_document_info(docs).to_csv('cluster/BEAUTY-document.csv')\n",
    "topic_model.visualize_topics()\n",
    "topic_model.visualize_heatmap()"
   ]
  },
  {
   "cell_type": "code",
   "execution_count": 64,
   "id": "97597028-378f-4145-98b8-27fd23446622",
   "metadata": {},
   "outputs": [],
   "source": [
    "\n",
    "# # Reduce outliers\n",
    "# new_topics = topic_model.reduce_outliers(docs, topics)\n",
    "\n",
    "# # Reduce outliers using the `probabilities` strategy\n",
    "# new_topics = topic_model.reduce_outliers(docs, topics, probabilities=probs, strategy=\"probabilities\")\n",
    "\n",
    "# # Reduce outliers using the `distributions` strategy\n",
    "# new_topics = topic_model.reduce_outliers(docs, topics, strategy=\"distributions\")\n",
    "\n",
    "# # Reduce outliers using the `c-tf-idf` strategy\n",
    "# new_topics = topic_model.reduce_outliers(docs, topics, strategy=\"c-tf-idf\")\n",
    "\n",
    "# Reduce outliers using the `embeddings` strategy\n",
    "new_topics = topic_model.reduce_outliers(docs, topics, strategy=\"embeddings\")\n",
    "\n",
    "# 创建数据框\n",
    "df = pd.DataFrame({\"Document\": docs, \"Assigned Topic\": new_topics})\n",
    "df.to_csv('cluster/%s-document-xxx.csv' % category)\n"
   ]
  },
  {
   "cell_type": "code",
   "execution_count": null,
   "id": "fa4daa41-4bb8-4f5d-9881-6b6d561808fc",
   "metadata": {},
   "outputs": [],
   "source": []
  },
  {
   "cell_type": "code",
   "execution_count": null,
   "id": "7ee12943-f792-4bdc-8c58-b5200f44615b",
   "metadata": {},
   "outputs": [],
   "source": []
  }
 ],
 "metadata": {
  "kernelspec": {
   "display_name": "Python 3 (ipykernel)",
   "language": "python",
   "name": "python3"
  },
  "language_info": {
   "codemirror_mode": {
    "name": "ipython",
    "version": 3
   },
   "file_extension": ".py",
   "mimetype": "text/x-python",
   "name": "python",
   "nbconvert_exporter": "python",
   "pygments_lexer": "ipython3",
   "version": "3.9.19"
  }
 },
 "nbformat": 4,
 "nbformat_minor": 5
}
